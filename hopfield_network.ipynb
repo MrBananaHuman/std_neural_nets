{
 "cells": [
  {
   "cell_type": "code",
   "execution_count": 1,
   "metadata": {
    "collapsed": true
   },
   "outputs": [],
   "source": [
    "from IPython.core.display import HTML"
   ]
  },
  {
   "cell_type": "markdown",
   "metadata": {},
   "source": [
    "## Hopfield Network"
   ]
  },
  {
   "cell_type": "markdown",
   "metadata": {},
   "source": [
    "This is a hopfield net with pre-calculated weight matrix based on the initial model suggested by John Hopfield. The calculation of the weight matrix is based on the hebbian learning rule. W<sub>ij</sub> = (2V<sub>i</sub> - 1)(2V<sub>j</sub> - 1) where V is a pattern to be stored in the network. In case we want to store multiple patterns, W<sub>ij</sub> = sum of (2V<sub>i</sub> - 1)(2V<sub>j</sub> - 1) calculated for each pattern. Maximum number of patterns which can be stored in a hopfield net having n nodes = N/2logN. \n",
    " \n",
    "In this example, \n",
    "<br>mode 1 => has only one pattern stored in the network leading to one attractor (0101)\n",
    "<br>mode 2 => has two patterns stored in the network leading to two attractors (01101,10101)\n",
    "\n",
    "The network is perturbed with a random initial input and then allowed to settle. The value of the ensemble settles down at the attractor which is closest to the initial input. Though the network is not guaranteed to settle at one of the attractors, the probability of settling at an attractor is high if the input is close to one of the attractors. \n",
    "\n",
    "For example, if the initial input in mode 2 is 01100, the network will settle to 01101. This is because this initial input is closer to the attractor 01101 (only one bit flip) as compared to the attractor 10101 (3 bit flips)."
   ]
  },
  {
   "cell_type": "code",
   "execution_count": 1,
   "metadata": {
    "collapsed": false
   },
   "outputs": [],
   "source": [
    "%matplotlib inline\n",
    "import nengo\n",
    "from nengo.dists import Uniform\n",
    "from nengo.utils.ensemble import response_curves\n",
    "import matplotlib.pyplot as plt\n",
    "import numpy as np\n",
    "\n",
    "   \n",
    "mode = 2\n",
    "if mode == 1:\n",
    "    N = 4      #number of neurons\n",
    "    start =   np.random.rand(N)  \n",
    "    #start =  np.array([0,1,0,1])   #single attractor\n",
    "    #start =  np.array([0,1,0,0])   #All these vectors are just 1 bit flip away \n",
    "    #start =  np.array([1,1,0,1])   #from the single attractor in the network, so  \n",
    "    #start =  np.array([0,1,1,1])   #using any of them as initial input will make  \n",
    "    #start =  np.array([0,0,0,1])   #the network settle at the attractor 0101.\n",
    "    weights = np.matrix('0 -1 1 -1; -1 0 -1 1; 1 -1 0 -1; -1 1 -1 0')\n",
    "    \n",
    "elif mode == 2:\n",
    "    N = 5       #number of neurons\n",
    "    start =   np.random.rand(N)\n",
    "    #start =  np.array([0,1,1,0,1])   #first attractor\n",
    "    #start =  np.array([0,1,1,0,0])   #Using any of these three vectors as initial input\n",
    "    #start =  np.array([0,1,1,1,1])   #will make the network settle at the first attractor 01101\n",
    "    #start =  np.array([0,1,0,0,1])   #since they are all just 1 bit flip away from it.\n",
    "    \n",
    "    #start =  np.array([1,0,1,0,1])   #second attractor\n",
    "    #start =  np.array([1,0,1,0,0])   #Using any of these three vectors as initial input\n",
    "    #start =  np.array([1,0,1,1,1])   #will make the network settle at the second attractor 10101\n",
    "    #start =  np.array([1,0,0,0,1])   #since they are all just 1 bit flip away from it.\n",
    "    \n",
    "    weights = np.matrix('0 -2 0 0 0; -2 0 0 0 0; 0 0 0 -2 2; 0 0 -2 0 -2; 0 0 2 -2 0')"
   ]
  },
  {
   "cell_type": "code",
   "execution_count": 2,
   "metadata": {
    "collapsed": false,
    "scrolled": false
   },
   "outputs": [
    {
     "name": "stdout",
     "output_type": "stream",
     "text": [
      "\r",
      "Simulation finished in 0:00:01.                                                 \n"
     ]
    }
   ],
   "source": [
    "model = nengo.Network('Hopfield net')\n",
    "\n",
    "with model:\n",
    "    stim = nengo.Node(lambda t: start if (t<=.1) else [0]*N)\n",
    "    ens = nengo.Ensemble(N, dimensions=N, \n",
    "                         encoders=np.eye(N), \n",
    "                         max_rates=Uniform(.999,.999),\n",
    "                         intercepts=Uniform(-1,-1),\n",
    "                         neuron_type=nengo.neurons.Sigmoid(tau_ref=1))\n",
    "    \n",
    "    conn = nengo.Connection(ens, ens, transform=weights, synapse=0)\n",
    "    nengo.Connection(stim, ens, synapse=0)\n",
    "    \n",
    "    stim_p = nengo.Probe(stim)\n",
    "    ens_p = nengo.Probe(ens.neurons, 'rates')   \n",
    "    \n",
    "sim = nengo.Simulator(model)\n",
    "sim.run(3)\n",
    "t = sim.trange()   "
   ]
  },
  {
   "cell_type": "code",
   "execution_count": 15,
   "metadata": {
    "collapsed": false
   },
   "outputs": [
    {
     "name": "stdout",
     "output_type": "stream",
     "text": [
      "\n",
      "Mode: 1\n",
      "\n",
      "Weights\n",
      "[[ 0 -1  1 -1]\n",
      " [-1  0 -1  1]\n",
      " [ 1 -1  0 -1]\n",
      " [-1  1 -1  0]]\n",
      "\n",
      "Stimulus provided to the network (stim)\n",
      "[ 0.1805583   0.5873272   0.05992322  0.58085739]\n",
      "\n",
      "Final Ensemble Value (ens)\n",
      "[  2.50807352e-05   9.99946124e-01   2.56215742e-05   9.99930956e-01]\n"
     ]
    },
    {
     "data": {
      "image/png": "[encoded data removed]",
      "text/plain": [
       "<matplotlib.figure.Figure at 0x1065a7490>"
      ]
     },
     "metadata": {},
     "output_type": "display_data"
    }
   ],
   "source": [
    "fig = plt.figure(figsize=(12, 3))\n",
    "p0 = plt.subplot(1, 2, 1)\n",
    "p0.plot(*response_curves(ens, sim));\n",
    "p0.set_title(\"Response curves\")\n",
    "\n",
    "p1 = plt.subplot(1, 2, 2)\n",
    "p1.matshow(weights);\n",
    "p1.set_title(\"Weigths\")\n",
    "\n",
    "print \"\\nMode:\", mode\n",
    "\n",
    "print \"\\nWeights\"\n",
    "print weights\n",
    "\n",
    "print \"\\nStimulus provided to the network (stim)\"\n",
    "print sim.data[stim_p][0]\n",
    "\n",
    "print \"\\nFinal Ensemble Value (ens)\"\n",
    "print sim.data[ens_p][-1]"
   ]
  },
  {
   "cell_type": "markdown",
   "metadata": {},
   "source": [
    "The above output shows that when a random initial stimulus is provided to the network in mode 1, the ensemble value settles down to 0101 i.e., at the attractor for mode1."
   ]
  },
  {
   "cell_type": "code",
   "execution_count": 3,
   "metadata": {
    "collapsed": false
   },
   "outputs": [
    {
     "name": "stdout",
     "output_type": "stream",
     "text": [
      "Simulation finished in 0:00:01.                                                 \n",
      "\n",
      "Mode: 2\n",
      "\n",
      "Weights\n",
      "[[ 0 -2  0  0  0]\n",
      " [-2  0  0  0  0]\n",
      " [ 0  0  0 -2  2]\n",
      " [ 0  0 -2  0 -2]\n",
      " [ 0  0  2 -2  0]]\n",
      "\n",
      "Stimulus provided to the network (stim)\n",
      "[ 0.59211579  0.76001689  0.7001497   0.98350355  0.36442281]\n",
      "\n",
      "Final Ensemble Value (ens)\n",
      "[  2.99906221e-03   9.99337729e-01   9.99997868e-01   9.18058263e-06\n",
      "   9.99997485e-01]\n"
     ]
    },
    {
     "data": {
      "image/png": "[encoded data removed]",
      "text/plain": [
       "<matplotlib.figure.Figure at 0x105766850>"
      ]
     },
     "metadata": {},
     "output_type": "display_data"
    }
   ],
   "source": [
    "sim = nengo.Simulator(model)\n",
    "sim.run(3)\n",
    "t = sim.trange()\n",
    "\n",
    "fig = plt.figure(figsize=(12, 3))\n",
    "p0 = plt.subplot(1, 2, 1)\n",
    "p0.plot(*response_curves(ens, sim));\n",
    "p0.set_title(\"Response curves\")\n",
    "\n",
    "p1 = plt.subplot(1, 2, 2)\n",
    "p1.matshow(weights);\n",
    "p1.set_title(\"Weigths\")\n",
    "\n",
    "print \"\\nMode:\", mode\n",
    "\n",
    "print \"\\nWeights\"\n",
    "print weights\n",
    "\n",
    "print \"\\nStimulus provided to the network (stim)\"\n",
    "print sim.data[stim_p][0]\n",
    "\n",
    "print \"\\nFinal Ensemble Value (ens)\"\n",
    "print sim.data[ens_p][-1]"
   ]
  },
  {
   "cell_type": "markdown",
   "metadata": {},
   "source": [
    "The above output shows that when a random initial stimulus is provided to the network in mode 2, the ensemble value settles down to 01101 i.e., at one of the attractors for mode2."
   ]
  }
 ],
 "metadata": {
  "kernelspec": {
   "display_name": "Python 2",
   "language": "python",
   "name": "python2"
  },
  "language_info": {
   "codemirror_mode": {
    "name": "ipython",
    "version": 2
   },
   "file_extension": ".py",
   "mimetype": "text/x-python",
   "name": "python",
   "nbconvert_exporter": "python",
   "pygments_lexer": "ipython2",
   "version": "2.7.10"
  }
 },
 "nbformat": 4,
 "nbformat_minor": 0
}
